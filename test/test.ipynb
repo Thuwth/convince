{
 "cells": [
  {
   "cell_type": "code",
   "execution_count": null,
   "metadata": {},
   "outputs": [],
   "source": [
    "import yaml\n",
    "\n",
    "config = \"test.yaml\"\n",
    "with open(config, 'r', encoding='utf-8') as fin:\n",
    "    configs = yaml.load(fin, Loader=yaml.FullLoader)\n",
    "\n",
    "\"\"\"\n",
    "取key对应的value值的两种方式:\n",
    "1、configs['key']\n",
    "2、configs.get('key')\n",
    "根据下面的例子，显然第一种方式更简单。\n",
    "\"\"\"\n",
    "\n",
    "# 第一级目录\n",
    "max_epoch = configs['max_epoch']    # 240\n",
    "max_epoch = configs.get('max_epoch')    # 240\n",
    "\n",
    "# 多级目录\n",
    "max_length = configs['dataset_conf']['filter_conf']['max_length']    # 40960\n",
    "max_length = configs.get('dataset_conf').get('filter_conf').get('max_length')    # 40960\n",
    "\n",
    "\n",
    "\"\"\"\n",
    "设置默认值的方法：\n",
    "configs.get('key', value)    value为默认值\n",
    "\"\"\"\n",
    "\n",
    "# default=100表示如果configs里面没有 max_epoch 参数，则设置 num_epochs=100；否则，取原来的值。\n",
    "num_epochs = configs.get('max_epoch', 100)    # 240\n",
    "type = configs.get('dynamic', 'static')    # static,因为 configs 中没有参数'dynamic'"
   ]
  }
 ],
 "metadata": {
  "kernelspec": {
   "display_name": "llm",
   "language": "python",
   "name": "python3"
  },
  "language_info": {
   "name": "python",
   "version": "3.9.18"
  }
 },
 "nbformat": 4,
 "nbformat_minor": 2
}
